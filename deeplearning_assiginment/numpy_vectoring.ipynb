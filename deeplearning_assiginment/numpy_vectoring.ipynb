{
 "cells": [
  {
   "cell_type": "code",
   "execution_count": 1,
   "metadata": {
    "collapsed": false
   },
   "outputs": [
    {
     "name": "stdout",
     "output_type": "stream",
     "text": [
      "[ 1.75834312 -0.6656999  -0.23609892 -0.97755393  1.8638894 ]\n"
     ]
    }
   ],
   "source": [
    "import numpy as np\n",
    "\n",
    "\n",
    "a = np.random.randn(5)  # 生成5个随机高斯变量,称为秩为1的数组\n",
    "print(a)\n"
   ]
  },
  {
   "cell_type": "code",
   "execution_count": 2,
   "metadata": {
    "collapsed": false
   },
   "outputs": [
    {
     "name": "stdout",
     "output_type": "stream",
     "text": [
      "(5,)\n"
     ]
    }
   ],
   "source": [
    "print(a.shape)  # (5,)秩为1的数组，并不是行向量或者列向量"
   ]
  },
  {
   "cell_type": "code",
   "execution_count": 3,
   "metadata": {
    "collapsed": false
   },
   "outputs": [
    {
     "name": "stdout",
     "output_type": "stream",
     "text": [
      "[ 1.75834312 -0.6656999  -0.23609892 -0.97755393  1.8638894 ]\n"
     ]
    }
   ],
   "source": [
    "print(a.T) # 秩为1的数组，尽量不要用此结构"
   ]
  },
  {
   "cell_type": "code",
   "execution_count": 4,
   "metadata": {
    "collapsed": false
   },
   "outputs": [
    {
     "name": "stdout",
     "output_type": "stream",
     "text": [
      "8.02036495824\n"
     ]
    }
   ],
   "source": [
    "print(np.dot(a, a.T))"
   ]
  },
  {
   "cell_type": "code",
   "execution_count": 5,
   "metadata": {
    "collapsed": false
   },
   "outputs": [
    {
     "name": "stdout",
     "output_type": "stream",
     "text": [
      "[[ 0.26657432]\n",
      " [ 1.08751487]\n",
      " [-0.25720538]\n",
      " [ 0.01558244]\n",
      " [ 0.13759452]]\n"
     ]
    }
   ],
   "source": [
    "a = np.random.randn(5,1)\n",
    "print(a)"
   ]
  },
  {
   "cell_type": "code",
   "execution_count": 6,
   "metadata": {
    "collapsed": false
   },
   "outputs": [
    {
     "name": "stdout",
     "output_type": "stream",
     "text": [
      "[[ 0.26657432  1.08751487 -0.25720538  0.01558244  0.13759452]]\n"
     ]
    }
   ],
   "source": [
    "print(a.T) # 表示1*5的矩阵"
   ]
  },
  {
   "cell_type": "code",
   "execution_count": 7,
   "metadata": {
    "collapsed": false
   },
   "outputs": [
    {
     "name": "stdout",
     "output_type": "stream",
     "text": [
      "[[  7.10618671e-02   2.89903535e-01  -6.85643496e-02   4.15387812e-03\n",
      "    3.66791663e-02]\n",
      " [  2.89903535e-01   1.18268859e+00  -2.79714679e-01   1.69461344e-02\n",
      "    1.49636090e-01]\n",
      " [ -6.85643496e-02  -2.79714679e-01   6.61546091e-02  -4.00788726e-03\n",
      "   -3.53900521e-02]\n",
      " [  4.15387812e-03   1.69461344e-02  -4.00788726e-03   2.42812413e-04\n",
      "    2.14405830e-03]\n",
      " [  3.66791663e-02   1.49636090e-01  -3.53900521e-02   2.14405830e-03\n",
      "    1.89322529e-02]]\n"
     ]
    }
   ],
   "source": [
    "print(np.dot(a, a.T))"
   ]
  },
  {
   "cell_type": "code",
   "execution_count": 19,
   "metadata": {
    "collapsed": false
   },
   "outputs": [
    {
     "name": "stdout",
     "output_type": "stream",
     "text": [
      "(1, 4)\n",
      "(4,)\n",
      "[[1 2 3 4]]\n"
     ]
    }
   ],
   "source": [
    "a = np.array([[1, 2, 3, 4]])  # 推荐使用这种\n",
    "b = np.array([1, 2, 3, 4])   # 不推荐使用秩为1的数组\n",
    "print(a.shape)\n",
    "print(b.shape)\n",
    "b = b.reshape(1, 4)   # 利用reshape指令将一个秩为1的数组转成列向量\n",
    "print(b)"
   ]
  },
  {
   "cell_type": "code",
   "execution_count": 15,
   "metadata": {
    "collapsed": false
   },
   "outputs": [
    {
     "name": "stdout",
     "output_type": "stream",
     "text": [
      "(5, 1)\n",
      "(1, 5)\n",
      "[[ 0.20088278]\n",
      " [-0.76203097]\n",
      " [ 0.08725335]\n",
      " [ 0.3423664 ]\n",
      " [ 0.65241721]]\n",
      "[[ 0.5275791  -0.21490836  1.23677115 -0.4324681  -0.67690418]]\n"
     ]
    }
   ],
   "source": [
    "a = np.random.randn(5, 1)\n",
    "print(a.shape)\n",
    "b = np.random.randn(1, 5)\n",
    "print(b.shape)\n",
    "print(a)\n",
    "print(b)\n",
    "# 不太确定一个向量具体的维度是多少时，加入assert()语句，确保向量的维度是正确的\n",
    "assert(a.shape == (5, 1))"
   ]
  },
  {
   "cell_type": "code",
   "execution_count": null,
   "metadata": {
    "collapsed": true
   },
   "outputs": [],
   "source": []
  },
  {
   "cell_type": "code",
   "execution_count": null,
   "metadata": {
    "collapsed": true
   },
   "outputs": [],
   "source": []
  }
 ],
 "metadata": {
  "anaconda-cloud": {},
  "kernelspec": {
   "display_name": "Python [default]",
   "language": "python",
   "name": "python3"
  },
  "language_info": {
   "codemirror_mode": {
    "name": "ipython",
    "version": 3
   },
   "file_extension": ".py",
   "mimetype": "text/x-python",
   "name": "python",
   "nbconvert_exporter": "python",
   "pygments_lexer": "ipython3",
   "version": "3.5.2"
  }
 },
 "nbformat": 4,
 "nbformat_minor": 1
}
