{
 "cells": [
  {
   "cell_type": "code",
   "execution_count": 17,
   "metadata": {},
   "outputs": [],
   "source": [
    "import random\n",
    "import jieba\n",
    "import pandas as pd\n",
    "import numpy as np"
   ]
  },
  {
   "cell_type": "code",
   "execution_count": 2,
   "metadata": {},
   "outputs": [],
   "source": [
    "stopwords = pd.read_csv(r\"E:\\DeepLearning\\jupyter_code\\dataset\\corpus\\03_project\\stopwords.txt\", index_col=False, quoting=3, sep=\"\\t\", names=[\"stopword\"], encoding=\"utf-8\")\n",
    "stopwords = stopwords[\"stopword\"].values"
   ]
  },
  {
   "cell_type": "code",
   "execution_count": 6,
   "metadata": {},
   "outputs": [],
   "source": [
    "# 加载语料\n",
    "laogong_df = pd.read_csv(r\"E:\\DeepLearning\\jupyter_code\\dataset\\corpus\\03_project\\beilaogongda.csv\", encoding=\"utf-8\", sep=\",\")\n",
    "laopo_df = pd.read_csv(r\"E:\\DeepLearning\\jupyter_code\\dataset\\corpus\\03_project\\beilaopoda.csv\", encoding=\"utf-8\", sep=\",\")\n",
    "erzi_df = pd.read_csv(r\"E:\\DeepLearning\\jupyter_code\\dataset\\corpus\\03_project\\beierzida.csv\", encoding=\"utf-8\", sep=\",\")\n",
    "nver_df = pd.read_csv(r\"E:\\DeepLearning\\jupyter_code\\dataset\\corpus\\03_project\\beinverda.csv\", encoding=\"utf-8\", sep=\",\")"
   ]
  },
  {
   "cell_type": "code",
   "execution_count": 7,
   "metadata": {},
   "outputs": [],
   "source": [
    "# 删除语料的nan行\n",
    "laogong_df.dropna(inplace=True)\n",
    "laopo_df.dropna(inplace=True)\n",
    "erzi_df.dropna(inplace=True)\n",
    "nver_df.dropna(inplace=True)"
   ]
  },
  {
   "cell_type": "code",
   "execution_count": 8,
   "metadata": {},
   "outputs": [],
   "source": [
    "# 转换\n",
    "laogong = laogong_df.segment.values.tolist()\n",
    "laopo = laopo_df.segment.values.tolist()\n",
    "erzi = erzi_df.segment.values.tolist()\n",
    "nver = nver_df.segment.values.tolist()"
   ]
  },
  {
   "cell_type": "code",
   "execution_count": 10,
   "metadata": {},
   "outputs": [
    {
     "name": "stderr",
     "output_type": "stream",
     "text": [
      "Building prefix dict from the default dictionary ...\n",
      "Loading model from cache C:\\Users\\ADMINI~1\\AppData\\Local\\Temp\\jieba.cache\n",
      "Loading model cost 1.337 seconds.\n",
      "Prefix dict has been built succesfully.\n"
     ]
    }
   ],
   "source": [
    "# 分词和去掉停用词\n",
    "\n",
    "## 定义分词和打标签函数preprocess_text\n",
    "def preprocess_text(content_lines, sentences, category):\n",
    "    # content_lines是上面转换得到的list\n",
    "    # sentences是空的list，用来存储打上标签后的数据\n",
    "    # category是类型标签\n",
    "    for line in content_lines:\n",
    "        try:\n",
    "            segs = jieba.lcut(line)\n",
    "            segs = [v for v in segs if not str(v).isdigit()]  # 除去数字\n",
    "            segs = list(filter(lambda x: x.strip(), segs))  # 除去左右空格\n",
    "            segs = list(filter(lambda x: len(x) > 1, segs))  # 除去长度为1的字符\n",
    "            segs = list(filter(lambda x: x not in stopwords, segs))  # 除去停用词\n",
    "            sentences.append((\" \".join(segs), category))  # 打标签\n",
    "        except Exception:\n",
    "            print(line)\n",
    "            continue\n",
    "\n",
    "# 调用上面函数，生成训练数据\n",
    "sentences = []\n",
    "preprocess_text(laogong, sentences, 0)\n",
    "preprocess_text(laopo, sentences, 1)\n",
    "preprocess_text(erzi, sentences, 2)\n",
    "preprocess_text(nver, sentences, 3)"
   ]
  },
  {
   "cell_type": "code",
   "execution_count": 11,
   "metadata": {},
   "outputs": [
    {
     "name": "stdout",
     "output_type": "stream",
     "text": [
      "报警 老婆 椅子 民警 到场 1\n",
      "报警 老婆 民警 到场 1\n",
      "家中 银行卡 不见 儿子 拿称 儿子 民警 到场 2\n",
      "报警 儿子 民警 到场 通知 卫生局 民警 到场 确认 不用 自行 通知 2\n",
      "报警 人称 老公 持械 民警 到场 0\n",
      "报警 老婆 棍子 民警 到场 携带 防护 装备 1\n",
      "报警 人称 女儿 手持 铁棍 无人 民警 到场 3\n",
      "丈夫 赶出来 人伤 无需 救护 0\n",
      "家暴 报警 妹妹 老公 妹妹 轻微伤 不明 民警 到场 携带 防护 装备 0\n",
      "报警 人称 老公 持械 无需 救护车 携带 防护 装备 民警 到场 0\n"
     ]
    }
   ],
   "source": [
    "# 先打乱数据，使得数据分布均匀，然后获取特征和标签列表\n",
    "random.shuffle(sentences)  # 打乱数据，生成更可靠的训练集\n",
    "for sentence in sentences[:10]:    # 输出前10条数据，观察一下\n",
    "    print(sentence[0], sentence[1])\n",
    "\n",
    "# 所有特征和对应标签\n",
    "all_texts = [sentence[0] for sentence in sentences]\n",
    "all_labels = [sentence[1] for sentence in sentences]"
   ]
  },
  {
   "cell_type": "code",
   "execution_count": 13,
   "metadata": {},
   "outputs": [],
   "source": [
    "# 使用LSTM对数据进行分类\n",
    "from keras.preprocessing.text import Tokenizer\n",
    "from keras.preprocessing.sequence import pad_sequences\n",
    "from keras.utils import to_categorical\n",
    "from keras.layers import Dense, Input, Flatten, Dropout\n",
    "from keras.layers import LSTM, Embedding, GRU\n",
    "from keras.models import Sequential"
   ]
  },
  {
   "cell_type": "code",
   "execution_count": 20,
   "metadata": {},
   "outputs": [
    {
     "name": "stdout",
     "output_type": "stream",
     "text": [
      "Found 480 unique tokens.\n",
      "data shape: (1674, 100)\n",
      "labels shape: (1674, 4)\n"
     ]
    }
   ],
   "source": [
    "# 预定义变量\n",
    "MAX_SEQENCE_LENGTH = 100   # 最大序列长度\n",
    "EMBEDDING_DIM = 200   # 词嵌入维度\n",
    "VALIDATION_SPLIT = 0.16   # 验证集比例\n",
    "TEST_SPLIT = 0.2  # 测试集比例\n",
    "\n",
    "# 使用keras的sequence模块文本序列填充\n",
    "tokenizer = Tokenizer()\n",
    "tokenizer.fit_on_texts(all_texts)\n",
    "sequences = tokenizer.texts_to_sequences(all_texts)\n",
    "word_index = tokenizer.word_index\n",
    "print(\"Found %s unique tokens.\" % len(word_index))\n",
    "\n",
    "\n",
    "data = pad_sequences(sequences, maxlen=MAX_SEQENCE_LENGTH)\n",
    "labels = to_categorical(np.asarray(all_labels))\n",
    "print(\"data shape:\", data.shape)\n",
    "print(\"labels shape:\", labels.shape)"
   ]
  },
  {
   "cell_type": "code",
   "execution_count": 21,
   "metadata": {},
   "outputs": [],
   "source": [
    "# 数据切分\n",
    "p1 = int(len(data) * (1 - VALIDATION_SPLIT - TEST_SPLIT))\n",
    "p2 = int(len(data) * (1 - TEST_SPLIT))\n",
    "\n",
    "# 训练集\n",
    "x_train = data[:p1]\n",
    "y_train = labels[:p1]\n",
    "\n",
    "# 验证集\n",
    "x_val = data[p1:p2]\n",
    "y_val = labels[p1:p2]\n",
    "\n",
    "# 测试集\n",
    "x_test = data[p2:]\n",
    "y_test = labels[p2:]\n"
   ]
  },
  {
   "cell_type": "code",
   "execution_count": 23,
   "metadata": {},
   "outputs": [
    {
     "name": "stdout",
     "output_type": "stream",
     "text": [
      "_________________________________________________________________\n",
      "Layer (type)                 Output Shape              Param #   \n",
      "=================================================================\n",
      "embedding_2 (Embedding)      (None, 100, 200)          96200     \n",
      "_________________________________________________________________\n",
      "lstm_2 (LSTM)                (None, 200)               320800    \n",
      "_________________________________________________________________\n",
      "dropout_2 (Dropout)          (None, 200)               0         \n",
      "_________________________________________________________________\n",
      "dense_3 (Dense)              (None, 64)                12864     \n",
      "_________________________________________________________________\n",
      "dense_4 (Dense)              (None, 4)                 260       \n",
      "=================================================================\n",
      "Total params: 430,124\n",
      "Trainable params: 430,124\n",
      "Non-trainable params: 0\n",
      "_________________________________________________________________\n",
      "['loss', 'acc']\n",
      "Train on 1071 samples, validate on 268 samples\n",
      "Epoch 1/10\n",
      "1071/1071 [==============================] - 14s 13ms/step - loss: 1.3518 - acc: 0.4006 - val_loss: 1.2490 - val_acc: 0.6231\n",
      "Epoch 2/10\n",
      "1071/1071 [==============================] - 11s 10ms/step - loss: 1.1383 - acc: 0.6611 - val_loss: 0.8995 - val_acc: 0.9216\n",
      "Epoch 3/10\n",
      "1071/1071 [==============================] - 11s 11ms/step - loss: 0.9938 - acc: 0.8357 - val_loss: 0.6142 - val_acc: 0.9142\n",
      "Epoch 4/10\n",
      "1071/1071 [==============================] - 11s 11ms/step - loss: 0.5111 - acc: 0.9290 - val_loss: 0.4076 - val_acc: 0.9552\n",
      "Epoch 5/10\n",
      "1071/1071 [==============================] - 11s 10ms/step - loss: 0.3161 - acc: 0.9757 - val_loss: 0.1800 - val_acc: 0.9888\n",
      "Epoch 6/10\n",
      "1071/1071 [==============================] - 11s 10ms/step - loss: 0.1453 - acc: 0.9907 - val_loss: 0.0699 - val_acc: 0.9925\n",
      "Epoch 7/10\n",
      "1071/1071 [==============================] - 11s 10ms/step - loss: 0.0584 - acc: 0.9972 - val_loss: 0.0674 - val_acc: 0.9963\n",
      "Epoch 8/10\n",
      "1071/1071 [==============================] - 11s 10ms/step - loss: 0.1265 - acc: 0.9851 - val_loss: 0.0300 - val_acc: 0.9963\n",
      "Epoch 9/10\n",
      "1071/1071 [==============================] - 11s 10ms/step - loss: 0.0344 - acc: 0.9953 - val_loss: 0.0219 - val_acc: 0.9963\n",
      "Epoch 10/10\n",
      "1071/1071 [==============================] - 11s 11ms/step - loss: 0.0203 - acc: 0.9963 - val_loss: 0.0156 - val_acc: 0.9963\n",
      "335/335 [==============================] - 1s 3ms/step\n",
      "[0.01634351191486218, 0.9970149253731343]\n"
     ]
    }
   ],
   "source": [
    "# LSTM训练模型\n",
    "model = Sequential()\n",
    "model.add(Embedding(len(word_index) + 1, EMBEDDING_DIM, input_length=MAX_SEQENCE_LENGTH))\n",
    "model.add(LSTM(200, dropout=0.2, recurrent_dropout=0.2))\n",
    "model.add(Dropout(0.2))\n",
    "model.add(Dense(64, activation=\"relu\"))\n",
    "model.add(Dense(labels.shape[1], activation=\"softmax\"))\n",
    "model.summary()\n",
    "\n",
    "# 模型编译\n",
    "model.compile(loss=\"categorical_crossentropy\", optimizer=\"rmsprop\", metrics=[\"acc\"])\n",
    "print(model.metrics_names)\n",
    "\n",
    "model.fit(x_train, y_train, validation_data=(x_val, y_val), epochs=10, batch_size=128)\n",
    "model.save(\"lstm.h5\")\n",
    "# 模型评估\n",
    "print(model.evaluate(x_test, y_test))"
   ]
  },
  {
   "cell_type": "code",
   "execution_count": 26,
   "metadata": {},
   "outputs": [
    {
     "name": "stdout",
     "output_type": "stream",
     "text": [
      "_________________________________________________________________\n",
      "Layer (type)                 Output Shape              Param #   \n",
      "=================================================================\n",
      "embedding_3 (Embedding)      (None, 100, 200)          96200     \n",
      "_________________________________________________________________\n",
      "gru_1 (GRU)                  (None, 200)               240600    \n",
      "_________________________________________________________________\n",
      "dropout_3 (Dropout)          (None, 200)               0         \n",
      "_________________________________________________________________\n",
      "dense_5 (Dense)              (None, 64)                12864     \n",
      "_________________________________________________________________\n",
      "dense_6 (Dense)              (None, 4)                 260       \n",
      "=================================================================\n",
      "Total params: 349,924\n",
      "Trainable params: 349,924\n",
      "Non-trainable params: 0\n",
      "_________________________________________________________________\n",
      "['loss', 'acc']\n",
      "Train on 1071 samples, validate on 268 samples\n",
      "Epoch 1/10\n",
      "1071/1071 [==============================] - 11s 10ms/step - loss: 1.3355 - acc: 0.4687 - val_loss: 1.1463 - val_acc: 0.5522\n",
      "Epoch 2/10\n",
      "1071/1071 [==============================] - 8s 8ms/step - loss: 1.0269 - acc: 0.6825 - val_loss: 0.8120 - val_acc: 0.9142\n",
      "Epoch 3/10\n",
      "1071/1071 [==============================] - 8s 8ms/step - loss: 0.5177 - acc: 0.9253 - val_loss: 0.1907 - val_acc: 0.9925\n",
      "Epoch 4/10\n",
      "1071/1071 [==============================] - 9s 8ms/step - loss: 0.1772 - acc: 0.9804 - val_loss: 0.0426 - val_acc: 1.0000\n",
      "Epoch 5/10\n",
      "1071/1071 [==============================] - 9s 8ms/step - loss: 0.0544 - acc: 0.9907 - val_loss: 0.0319 - val_acc: 0.9963\n",
      "Epoch 6/10\n",
      "1071/1071 [==============================] - 11s 10ms/step - loss: 0.0313 - acc: 0.9953 - val_loss: 0.0085 - val_acc: 1.0000\n",
      "Epoch 7/10\n",
      "1071/1071 [==============================] - 10s 9ms/step - loss: 0.0902 - acc: 0.9897 - val_loss: 0.0096 - val_acc: 1.0000\n",
      "Epoch 8/10\n",
      "1071/1071 [==============================] - 13s 12ms/step - loss: 0.0152 - acc: 0.9963 - val_loss: 0.0072 - val_acc: 0.9963\n",
      "Epoch 9/10\n",
      "1071/1071 [==============================] - 11s 10ms/step - loss: 0.0068 - acc: 0.9991 - val_loss: 0.0045 - val_acc: 0.9963\n",
      "Epoch 10/10\n",
      "1071/1071 [==============================] - 12s 12ms/step - loss: 0.0068 - acc: 0.9981 - val_loss: 0.0066 - val_acc: 0.9963\n",
      "335/335 [==============================] - 1s 4ms/step\n",
      "[0.004153871147045449, 1.0]\n"
     ]
    }
   ],
   "source": [
    "# 使用GRU模型\n",
    "model = Sequential()\n",
    "model.add(Embedding(len(word_index) + 1, EMBEDDING_DIM, input_length=MAX_SEQENCE_LENGTH))\n",
    "model.add(GRU(200, dropout=0.2, recurrent_dropout=0.2))\n",
    "model.add(Dropout(0.2))\n",
    "model.add(Dense(64, activation=\"relu\"))\n",
    "model.add(Dense(labels.shape[1], activation=\"softmax\"))\n",
    "model.summary()\n",
    "\n",
    "model.compile(loss=\"categorical_crossentropy\", optimizer=\"rmsprop\", metrics=[\"acc\"])\n",
    "print(model.metrics_names)\n",
    "\n",
    "model.fit(x_train, y_train, validation_data=(x_val, y_val), epochs=10, batch_size=128)\n",
    "model.save(\"gru.h5\")\n",
    "\n",
    "print(model.evaluate(x_test, y_test))"
   ]
  },
  {
   "cell_type": "code",
   "execution_count": null,
   "metadata": {},
   "outputs": [],
   "source": []
  }
 ],
 "metadata": {
  "kernelspec": {
   "display_name": "Python 3",
   "language": "python",
   "name": "python3"
  },
  "language_info": {
   "codemirror_mode": {
    "name": "ipython",
    "version": 3
   },
   "file_extension": ".py",
   "mimetype": "text/x-python",
   "name": "python",
   "nbconvert_exporter": "python",
   "pygments_lexer": "ipython3",
   "version": "3.5.2"
  },
  "toc": {
   "base_numbering": 1,
   "nav_menu": {},
   "number_sections": true,
   "sideBar": true,
   "skip_h1_title": false,
   "title_cell": "Table of Contents",
   "title_sidebar": "Contents",
   "toc_cell": false,
   "toc_position": {},
   "toc_section_display": true,
   "toc_window_display": false
  }
 },
 "nbformat": 4,
 "nbformat_minor": 2
}
